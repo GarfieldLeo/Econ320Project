{
 "cells": [
  {
   "cell_type": "markdown",
   "metadata": {},
   "source": [
    "# Table of contents\n",
    "1. [Introduction](#introduction)\n",
    "2. [Data](#data)\n",
    "    1. [Sub paragraph](#subparagraph1)\n",
    "3. [Methodology](#method)\n"
   ]
  },
  {
   "cell_type": "markdown",
   "metadata": {},
   "source": [
    "\n",
    "## Introduction and Motivation <a name=\"introduction\"></a>\n",
    "Introducetion starts here"
   ]
  },
  {
   "cell_type": "markdown",
   "metadata": {},
   "source": [
    "\n",
    "## Data <a name=\"data\"></a>\n",
    "Some introduction text, formatted in heading 2 style\n"
   ]
  },
  {
   "cell_type": "markdown",
   "metadata": {},
   "source": [
    "# Methodology and Model <a name = \"method\"></a>\n",
    "The regression model proposed is motivated by relationship between housing and income. Housing index should be positively affected by people’s income and well being; however, should be negatively affected by unemployment.Also independent variables like number of employee that receive adequate social assistance or education and health service should have a linear relationship with housing index, instead of log relationship. Log relationship measures percentage change in variables, which should not be suitable for a dependent variable of housing index. Thus the model is : \n",
    "\n",
    "Housing index = $\\beta0$ + $\\beta1\\cdot$ new private housing units + $\\beta2\\cdot $unemployment rate + $\\beta3 \\cdot$ # of employee have social assitance + $\\beta \\cdot$ # of employee have education or health service + $\\beta4\\cdot $income"
   ]
  },
  {
   "cell_type": "markdown",
   "metadata": {},
   "source": []
  },
  {
   "cell_type": "code",
   "execution_count": null,
   "metadata": {},
   "outputs": [],
   "source": []
  }
 ],
 "metadata": {
  "kernelspec": {
   "display_name": "Python 3",
   "language": "python",
   "name": "python3"
  },
  "language_info": {
   "codemirror_mode": {
    "name": "ipython",
    "version": 3
   },
   "file_extension": ".py",
   "mimetype": "text/x-python",
   "name": "python",
   "nbconvert_exporter": "python",
   "pygments_lexer": "ipython3",
   "version": "3.6.10"
  }
 },
 "nbformat": 4,
 "nbformat_minor": 2
}
